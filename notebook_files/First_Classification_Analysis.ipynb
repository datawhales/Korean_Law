{
 "cells": [
  {
   "cell_type": "code",
   "execution_count": 2,
   "id": "stupid-polyester",
   "metadata": {
    "scrolled": true
   },
   "outputs": [
    {
     "data": {
      "text/html": [
       "<div>\n",
       "<style scoped>\n",
       "    .dataframe tbody tr th:only-of-type {\n",
       "        vertical-align: middle;\n",
       "    }\n",
       "\n",
       "    .dataframe tbody tr th {\n",
       "        vertical-align: top;\n",
       "    }\n",
       "\n",
       "    .dataframe thead th {\n",
       "        text-align: right;\n",
       "    }\n",
       "</style>\n",
       "<table border=\"1\" class=\"dataframe\">\n",
       "  <thead>\n",
       "    <tr style=\"text-align: right;\">\n",
       "      <th></th>\n",
       "      <th>Unnamed: 0</th>\n",
       "      <th>조_항목</th>\n",
       "      <th>항목</th>\n",
       "      <th>원본</th>\n",
       "      <th>조항구분</th>\n",
       "      <th>조항구분_예측</th>\n",
       "      <th>파일명</th>\n",
       "    </tr>\n",
       "  </thead>\n",
       "  <tbody>\n",
       "    <tr>\n",
       "      <th>0</th>\n",
       "      <td>0</td>\n",
       "      <td>목적 및 대상</td>\n",
       "      <td>1조 1항</td>\n",
       "      <td>본 계약은 음식물류 폐기물의 자원화를 효율적으로 추진하기 위하여 필요한 사항을 약정...</td>\n",
       "      <td>['nan']</td>\n",
       "      <td>['필수조항11']</td>\n",
       "      <td>체크1. (과업지시서)2018년 음식물폐기물 민간위탁처리(용역)_계약서.xlsx</td>\n",
       "    </tr>\n",
       "    <tr>\n",
       "      <th>1</th>\n",
       "      <td>1</td>\n",
       "      <td>목적 및 대상</td>\n",
       "      <td>1조 2항</td>\n",
       "      <td>위탁처리대상은 [지역명1]군에서 분리 수거한 음식물류폐기물로 한다.</td>\n",
       "      <td>['nan']</td>\n",
       "      <td>['nan']</td>\n",
       "      <td>체크1. (과업지시서)2018년 음식물폐기물 민간위탁처리(용역)_계약서.xlsx</td>\n",
       "    </tr>\n",
       "    <tr>\n",
       "      <th>2</th>\n",
       "      <td>2</td>\n",
       "      <td>위탁업무의 내용 및 처리방법</td>\n",
       "      <td>2조 1항</td>\n",
       "      <td>음식물폐기물의 수집․운반은 “갑”이하고 수집,운반된 음식물류 폐기물의 처리는 “을”...</td>\n",
       "      <td>['nan']</td>\n",
       "      <td>['nan']</td>\n",
       "      <td>체크1. (과업지시서)2018년 음식물폐기물 민간위탁처리(용역)_계약서.xlsx</td>\n",
       "    </tr>\n",
       "    <tr>\n",
       "      <th>3</th>\n",
       "      <td>3</td>\n",
       "      <td>위탁업무의 내용 및 처리방법</td>\n",
       "      <td>2조 2항</td>\n",
       "      <td>“을”은  “갑”이  수집,운반한 음식물류폐기물을 사업장에서 관련 법령에 적법하게 ...</td>\n",
       "      <td>['nan']</td>\n",
       "      <td>['nan']</td>\n",
       "      <td>체크1. (과업지시서)2018년 음식물폐기물 민간위탁처리(용역)_계약서.xlsx</td>\n",
       "    </tr>\n",
       "    <tr>\n",
       "      <th>4</th>\n",
       "      <td>4</td>\n",
       "      <td>계약기간</td>\n",
       "      <td>3조 1항</td>\n",
       "      <td>위수탁기간은 [기간]로 한다.</td>\n",
       "      <td>['필수조항1']</td>\n",
       "      <td>['nan']</td>\n",
       "      <td>체크1. (과업지시서)2018년 음식물폐기물 민간위탁처리(용역)_계약서.xlsx</td>\n",
       "    </tr>\n",
       "  </tbody>\n",
       "</table>\n",
       "</div>"
      ],
      "text/plain": [
       "   Unnamed: 0             조_항목     항목  \\\n",
       "0           0          목적 및 대상  1조 1항   \n",
       "1           1          목적 및 대상  1조 2항   \n",
       "2           2  위탁업무의 내용 및 처리방법  2조 1항   \n",
       "3           3  위탁업무의 내용 및 처리방법  2조 2항   \n",
       "4           4             계약기간  3조 1항   \n",
       "\n",
       "                                                  원본       조항구분     조항구분_예측  \\\n",
       "0  본 계약은 음식물류 폐기물의 자원화를 효율적으로 추진하기 위하여 필요한 사항을 약정...    ['nan']  ['필수조항11']   \n",
       "1              위탁처리대상은 [지역명1]군에서 분리 수거한 음식물류폐기물로 한다.    ['nan']     ['nan']   \n",
       "2  음식물폐기물의 수집․운반은 “갑”이하고 수집,운반된 음식물류 폐기물의 처리는 “을”...    ['nan']     ['nan']   \n",
       "3  “을”은  “갑”이  수집,운반한 음식물류폐기물을 사업장에서 관련 법령에 적법하게 ...    ['nan']     ['nan']   \n",
       "4                                   위수탁기간은 [기간]로 한다.  ['필수조항1']     ['nan']   \n",
       "\n",
       "                                            파일명  \n",
       "0  체크1. (과업지시서)2018년 음식물폐기물 민간위탁처리(용역)_계약서.xlsx  \n",
       "1  체크1. (과업지시서)2018년 음식물폐기물 민간위탁처리(용역)_계약서.xlsx  \n",
       "2  체크1. (과업지시서)2018년 음식물폐기물 민간위탁처리(용역)_계약서.xlsx  \n",
       "3  체크1. (과업지시서)2018년 음식물폐기물 민간위탁처리(용역)_계약서.xlsx  \n",
       "4  체크1. (과업지시서)2018년 음식물폐기물 민간위탁처리(용역)_계약서.xlsx  "
      ]
     },
     "execution_count": 2,
     "metadata": {},
     "output_type": "execute_result"
    }
   ],
   "source": [
    "import pandas as pd\n",
    "\n",
    "df = pd.read_csv(\"contracts_classcandidates_0729.csv\")\n",
    "df.head()"
   ]
  },
  {
   "cell_type": "code",
   "execution_count": 3,
   "id": "suburban-metallic",
   "metadata": {},
   "outputs": [
    {
     "name": "stdout",
     "output_type": "stream",
     "text": [
      "Accuracy = 21.8295\n"
     ]
    }
   ],
   "source": [
    "cnt = 0\n",
    "for i in range(len(df)):\n",
    "    if df.iloc[i]['조항구분'] == df.iloc[i]['조항구분_예측']:\n",
    "        cnt += 1\n",
    "print(f\"Accuracy = {cnt / len(df) * 100:.4f}\")"
   ]
  },
  {
   "cell_type": "markdown",
   "id": "derived-cinema",
   "metadata": {},
   "source": [
    "## 정답이 후보군에 포함되어 있는 비율 파악"
   ]
  },
  {
   "cell_type": "code",
   "execution_count": 167,
   "id": "absent-engagement",
   "metadata": {},
   "outputs": [],
   "source": [
    "# 1. 각 정답 조항구분 별로 나타나는 조항구분_예측의 구성 형태 파악\n",
    "# 2. 정답이 후보군에 포함되어 있는지 확인\n",
    "import re\n",
    "\n",
    "def evaluate_total(df):\n",
    "    total = len(df)\n",
    "    print(f\"전체 데이터 수: {total}개\")\n",
    "    cnt = 0\n",
    "    for i in range(total):\n",
    "        label, pred = df.iloc[i]['조항구분'], df.iloc[i]['조항구분_예측']\n",
    "        # 'nan' 또는 '필수조항1' 또는 '필수조항1', '필수조항2'\n",
    "        labels = [re.sub(\"'\", \"\", l).strip() for l in label[1:-1].split(',')]\n",
    "        preds = [re.sub(\"'\", \"\", p).strip() for p in pred[1:-1].split(',')]\n",
    "        if set(labels).issubset(set(preds)):\n",
    "            cnt += 1\n",
    "    print(f\"후보군이 정답을 포함하고 있는 항 수: {cnt}개\")\n",
    "    return cnt / total * 100\n",
    "\n",
    "    "
   ]
  },
  {
   "cell_type": "code",
   "execution_count": 168,
   "id": "obvious-cowboy",
   "metadata": {},
   "outputs": [
    {
     "name": "stdout",
     "output_type": "stream",
     "text": [
      "전체 데이터 수: 34151개\n",
      "후보군이 정답을 포함하고 있는 항 수: 16346개\n"
     ]
    },
    {
     "data": {
      "text/plain": [
       "47.86389856812392"
      ]
     },
     "execution_count": 168,
     "metadata": {},
     "output_type": "execute_result"
    }
   ],
   "source": [
    "evaluate_total(df)"
   ]
  },
  {
   "cell_type": "code",
   "execution_count": 164,
   "id": "charged-column",
   "metadata": {},
   "outputs": [],
   "source": [
    "# 1. 각 정답 조항구분 별로 나타나는 조항구분_예측의 구성 형태 파악\n",
    "# 2. 정답이 후보군에 포함되어 있는지 확인\n",
    "import re\n",
    "\n",
    "def evaluate(df):\n",
    "    total = 0\n",
    "    cnt = 0\n",
    "    for i in range(len(df)):\n",
    "        label, pred = df.iloc[i]['조항구분'], df.iloc[i]['조항구분_예측']\n",
    "        # 'nan' 또는 '필수조항1' 또는 '필수조항1', '필수조항2'\n",
    "        labels = [re.sub(\"'\", \"\", l).strip() for l in label[1:-1].split(',')]\n",
    "        if ['nan'] == labels:\n",
    "            continue\n",
    "        if 'nan' in labels:\n",
    "            labels.remove('nan')\n",
    "        preds = [re.sub(\"'\", \"\", p).strip() for p in pred[1:-1].split(',')]\n",
    "        if set(labels).issubset(set(preds)):\n",
    "            cnt += 1\n",
    "        total += 1\n",
    "    print(f\"전체 데이터 수: {total}개\")\n",
    "    print(f\"후보군이 정답을 포함하고 있는 항 수: {cnt}개\")\n",
    "    return cnt / total * 100\n"
   ]
  },
  {
   "cell_type": "code",
   "execution_count": 165,
   "id": "local-brand",
   "metadata": {},
   "outputs": [
    {
     "name": "stdout",
     "output_type": "stream",
     "text": [
      "전체 데이터 수: 15325개\n",
      "후보군이 정답을 포함하고 있는 항 수: 11844개\n"
     ]
    },
    {
     "data": {
      "text/plain": [
       "77.28548123980424"
      ]
     },
     "execution_count": 165,
     "metadata": {},
     "output_type": "execute_result"
    }
   ],
   "source": [
    "evaluate(df)"
   ]
  },
  {
   "cell_type": "markdown",
   "id": "several-maine",
   "metadata": {},
   "source": [
    "## 정답 조항의 개수에 따른 조항구분 예측 후보의 개수 분포"
   ]
  },
  {
   "cell_type": "code",
   "execution_count": 88,
   "id": "united-armenia",
   "metadata": {},
   "outputs": [],
   "source": [
    "from collections import defaultdict\n",
    "\n",
    "def number_of_cands(df):\n",
    "    cnt_dict = defaultdict(dict)\n",
    "    total = len(df)\n",
    "    print(f\"전체 데이터 수: {total}개\")\n",
    "    for i in range(total):\n",
    "        label, pred = df.iloc[i]['조항구분'], df.iloc[i]['조항구분_예측']\n",
    "        labels = [re.sub(\"'\", \"\", l).strip() for l in label[1:-1].split(',')]\n",
    "        preds = [re.sub(\"'\", \"\", p).strip() for p in pred[1:-1].split(',')]\n",
    "        # 'nan'인 경우 0개로 취급\n",
    "        if ['nan'] == labels:\n",
    "            if ['nan'] == preds:\n",
    "                if 0 not in cnt_dict[0]:\n",
    "                    cnt_dict[0][0] = 1\n",
    "                else:\n",
    "                    cnt_dict[0][0] += 1\n",
    "            else:\n",
    "                if len(preds) not in cnt_dict[0]:\n",
    "                    cnt_dict[0][len(preds)] = 1\n",
    "                else:\n",
    "                    cnt_dict[0][len(preds)] += 1\n",
    "        elif 'nan' in labels:\n",
    "            labels.remove('nan')\n",
    "            if ['nan'] == preds:\n",
    "                if 0 not in cnt_dict[len(labels)]:\n",
    "                    cnt_dict[len(labels)][0] = 1\n",
    "                else:\n",
    "                    cnt_dict[len(labels)][0] += 1\n",
    "            else:\n",
    "                if len(preds) not in cnt_dict[len(labels)]:\n",
    "                    cnt_dict[len(labels)][len(preds)] = 1\n",
    "                else:\n",
    "                    cnt_dict[len(labels)][len(preds)] += 1\n",
    "        else:\n",
    "            if len(preds) not in cnt_dict[len(labels)]:\n",
    "                cnt_dict[len(labels)][len(preds)] = 1\n",
    "            else:\n",
    "                cnt_dict[len(labels)][len(preds)] += 1\n",
    "                \n",
    "    # sorting\n",
    "    sorted_cnt_dict = {}\n",
    "    sorted_by_num_cnt_dict = {}\n",
    "    \n",
    "    for k, v_dict in sorted(cnt_dict.items()):\n",
    "        sorted_cnt_dict[k] = {a:b for a, b in sorted(v_dict.items(), key=lambda x: x[1], reverse=True)}\n",
    "        sorted_by_num_cnt_dict[k] = {a:b for a, b in sorted(v_dict.items())}\n",
    "\n",
    "    return sorted_cnt_dict, sorted_by_num_cnt_dict"
   ]
  },
  {
   "cell_type": "code",
   "execution_count": 90,
   "id": "median-latino",
   "metadata": {
    "scrolled": true
   },
   "outputs": [
    {
     "name": "stdout",
     "output_type": "stream",
     "text": [
      "전체 데이터 수: 34151개\n"
     ]
    }
   ],
   "source": [
    "sorted_cnt_dict, sorted_by_num_cnt_dict = number_of_cands(df)\n"
   ]
  },
  {
   "cell_type": "code",
   "execution_count": 92,
   "id": "indoor-dividend",
   "metadata": {
    "scrolled": false
   },
   "outputs": [
    {
     "data": {
      "text/plain": [
       "{0: {0: 5239,\n",
       "  1: 4429,\n",
       "  2: 3058,\n",
       "  3: 1805,\n",
       "  4: 1769,\n",
       "  5: 1080,\n",
       "  6: 725,\n",
       "  7: 339,\n",
       "  8: 199,\n",
       "  9: 80,\n",
       "  10: 68,\n",
       "  11: 19,\n",
       "  14: 9,\n",
       "  12: 4,\n",
       "  13: 3},\n",
       " 1: {1: 4327,\n",
       "  4: 1991,\n",
       "  2: 1844,\n",
       "  5: 1511,\n",
       "  6: 1427,\n",
       "  3: 1319,\n",
       "  7: 724,\n",
       "  8: 582,\n",
       "  9: 330,\n",
       "  10: 199,\n",
       "  0: 115,\n",
       "  11: 62,\n",
       "  12: 16,\n",
       "  14: 7,\n",
       "  13: 6,\n",
       "  18: 1},\n",
       " 2: {3: 89,\n",
       "  5: 82,\n",
       "  2: 70,\n",
       "  4: 69,\n",
       "  1: 51,\n",
       "  9: 49,\n",
       "  6: 48,\n",
       "  7: 48,\n",
       "  8: 37,\n",
       "  10: 29,\n",
       "  12: 19,\n",
       "  11: 13,\n",
       "  0: 10,\n",
       "  13: 5,\n",
       "  14: 2},\n",
       " 3: {4: 25,\n",
       "  5: 24,\n",
       "  6: 23,\n",
       "  7: 22,\n",
       "  2: 20,\n",
       "  8: 17,\n",
       "  12: 16,\n",
       "  3: 16,\n",
       "  9: 13,\n",
       "  1: 9,\n",
       "  10: 8,\n",
       "  11: 6,\n",
       "  13: 6,\n",
       "  15: 1},\n",
       " 4: {8: 7,\n",
       "  5: 4,\n",
       "  4: 4,\n",
       "  9: 2,\n",
       "  1: 2,\n",
       "  11: 2,\n",
       "  2: 2,\n",
       "  13: 1,\n",
       "  12: 1,\n",
       "  10: 1,\n",
       "  7: 1,\n",
       "  6: 1,\n",
       "  3: 1,\n",
       "  15: 1},\n",
       " 5: {9: 2, 7: 1, 13: 1, 11: 1},\n",
       " 6: {10: 1, 6: 1}}"
      ]
     },
     "execution_count": 92,
     "metadata": {},
     "output_type": "execute_result"
    }
   ],
   "source": [
    "sorted_cnt_dict"
   ]
  },
  {
   "cell_type": "code",
   "execution_count": 93,
   "id": "mounted-preparation",
   "metadata": {
    "scrolled": false
   },
   "outputs": [
    {
     "data": {
      "text/plain": [
       "{0: {0: 5239,\n",
       "  1: 4429,\n",
       "  2: 3058,\n",
       "  3: 1805,\n",
       "  4: 1769,\n",
       "  5: 1080,\n",
       "  6: 725,\n",
       "  7: 339,\n",
       "  8: 199,\n",
       "  9: 80,\n",
       "  10: 68,\n",
       "  11: 19,\n",
       "  12: 4,\n",
       "  13: 3,\n",
       "  14: 9},\n",
       " 1: {0: 115,\n",
       "  1: 4327,\n",
       "  2: 1844,\n",
       "  3: 1319,\n",
       "  4: 1991,\n",
       "  5: 1511,\n",
       "  6: 1427,\n",
       "  7: 724,\n",
       "  8: 582,\n",
       "  9: 330,\n",
       "  10: 199,\n",
       "  11: 62,\n",
       "  12: 16,\n",
       "  13: 6,\n",
       "  14: 7,\n",
       "  18: 1},\n",
       " 2: {0: 10,\n",
       "  1: 51,\n",
       "  2: 70,\n",
       "  3: 89,\n",
       "  4: 69,\n",
       "  5: 82,\n",
       "  6: 48,\n",
       "  7: 48,\n",
       "  8: 37,\n",
       "  9: 49,\n",
       "  10: 29,\n",
       "  11: 13,\n",
       "  12: 19,\n",
       "  13: 5,\n",
       "  14: 2},\n",
       " 3: {1: 9,\n",
       "  2: 20,\n",
       "  3: 16,\n",
       "  4: 25,\n",
       "  5: 24,\n",
       "  6: 23,\n",
       "  7: 22,\n",
       "  8: 17,\n",
       "  9: 13,\n",
       "  10: 8,\n",
       "  11: 6,\n",
       "  12: 16,\n",
       "  13: 6,\n",
       "  15: 1},\n",
       " 4: {1: 2,\n",
       "  2: 2,\n",
       "  3: 1,\n",
       "  4: 4,\n",
       "  5: 4,\n",
       "  6: 1,\n",
       "  7: 1,\n",
       "  8: 7,\n",
       "  9: 2,\n",
       "  10: 1,\n",
       "  11: 2,\n",
       "  12: 1,\n",
       "  13: 1,\n",
       "  15: 1},\n",
       " 5: {7: 1, 9: 2, 11: 1, 13: 1},\n",
       " 6: {6: 1, 10: 1}}"
      ]
     },
     "execution_count": 93,
     "metadata": {},
     "output_type": "execute_result"
    }
   ],
   "source": [
    "sorted_by_num_cnt_dict"
   ]
  },
  {
   "cell_type": "markdown",
   "id": "alpha-terror",
   "metadata": {},
   "source": [
    "## 정답 조항의 종류에 따른 예측 조항의 분포"
   ]
  },
  {
   "cell_type": "code",
   "execution_count": 124,
   "id": "ordered-russell",
   "metadata": {},
   "outputs": [
    {
     "name": "stdout",
     "output_type": "stream",
     "text": [
      "전체 데이터 수: 34151\n"
     ]
    }
   ],
   "source": [
    "from collections import Counter\n",
    "\n",
    "print(f\"전체 데이터 수: {len(df)}\")\n",
    "\n",
    "def predicted_form(df, trg_label):\n",
    "    counter = Counter()\n",
    "    cnt = 0\n",
    "    total = len(df)\n",
    "    for i in range(total):\n",
    "        label, pred = df.iloc[i]['조항구분'], df.iloc[i]['조항구분_예측']\n",
    "        labels = [re.sub(\"'\", \"\", l).strip() for l in label[1:-1].split(',')]\n",
    "        preds = [re.sub(\"'\", \"\", p).strip() for p in pred[1:-1].split(',')]\n",
    "        if trg_label in labels:\n",
    "            counter.update(preds)\n",
    "            cnt += 1\n",
    "            \n",
    "    return cnt, counter"
   ]
  },
  {
   "cell_type": "code",
   "execution_count": 125,
   "id": "economic-rouge",
   "metadata": {},
   "outputs": [
    {
     "name": "stdout",
     "output_type": "stream",
     "text": [
      "필수조항1이 나오는 횟수는 827\n",
      "Counter({'nan': 545, '필수조항11': 193, '옵션조항3': 193, '필수조항10.1': 48, '옵션조항2': 48, '필수조항10': 47, '필수조항12': 42, '필수조항7': 38, '옵션조항4': 37, '필수조항6': 37, '필수조항8': 32, '필수조항13': 31, '옵션조항7': 27, '옵션조항10': 24, '필수조항4': 24, '옵션조항1': 22, '옵션조항6': 21, '필수조항3': 19, '필수조항2': 18, '필수조항5': 17, '옵션조항5': 15, '옵션조항8': 13, '필수조항9': 9})\n"
     ]
    }
   ],
   "source": [
    "cnt, counter = predicted_form(df, '필수조항1')\n",
    "print(f\"필수조항1이 나오는 횟수는 {cnt}\")\n",
    "print(counter)"
   ]
  },
  {
   "cell_type": "code",
   "execution_count": 126,
   "id": "legitimate-garbage",
   "metadata": {},
   "outputs": [
    {
     "name": "stdout",
     "output_type": "stream",
     "text": [
      "필수조항2이 나오는 횟수는 147\n",
      "Counter({'nan': 65, '필수조항2': 55, '필수조항11': 35, '옵션조항3': 29, '옵션조항4': 28, '필수조항9': 16, '필수조항8': 16, '필수조항4': 14, '필수조항10.1': 11, '옵션조항2': 10, '필수조항7': 8, '옵션조항1': 8, '필수조항10': 6, '옵션조항6': 5, '필수조항5': 4, '필수조항3': 3, '필수조항13': 3, '옵션조항7': 2, '필수조항12': 1, '옵션조항5': 1, '옵션조항8': 1, '필수조항6': 1})\n"
     ]
    }
   ],
   "source": [
    "cnt, counter = predicted_form(df, '필수조항2')\n",
    "print(f\"필수조항2이 나오는 횟수는 {cnt}\")\n",
    "print(counter)"
   ]
  },
  {
   "cell_type": "markdown",
   "id": "sublime-representation",
   "metadata": {},
   "source": [
    "### 각 조항별로 예측이 되는 비율 구하기 - 키워드 추가 필요한 조항(?)"
   ]
  },
  {
   "cell_type": "code",
   "execution_count": 160,
   "id": "legendary-installation",
   "metadata": {},
   "outputs": [],
   "source": [
    "label_list = ['필수조항1', '필수조항2', '필수조항3', '필수조항4', '필수조항5', '필수조항6', '필수조항7',\n",
    "       '필수조항8', '필수조항9', '필수조항10', '필수조항10.1', \n",
    "    '필수조항11', '필수조항12', '필수조항13', '옵션조항1', '옵션조항2', '옵션조항3', '옵션조항4', '옵션조항5', \n",
    "            '옵션조항6', '옵션조항7', '옵션조항8', '옵션조항9', '옵션조항10', '옵션조항12']"
   ]
  },
  {
   "cell_type": "code",
   "execution_count": 161,
   "id": "wanted-daisy",
   "metadata": {},
   "outputs": [
    {
     "name": "stdout",
     "output_type": "stream",
     "text": [
      "   필수조항1 --> 정답으로 존재하는 개수:  827개, 예측후보에 존재하는 개수:    0개, 비율: 0.0000%\n",
      "   필수조항2 --> 정답으로 존재하는 개수:  147개, 예측후보에 존재하는 개수:   55개, 비율: 37.4150%\n",
      "   필수조항3 --> 정답으로 존재하는 개수:  738개, 예측후보에 존재하는 개수:  221개, 비율: 29.9458%\n",
      "   필수조항4 --> 정답으로 존재하는 개수:  839개, 예측후보에 존재하는 개수:  752개, 비율: 89.6305%\n",
      "   필수조항5 --> 정답으로 존재하는 개수:  761개, 예측후보에 존재하는 개수:  654개, 비율: 85.9396%\n",
      "   필수조항6 --> 정답으로 존재하는 개수: 1004개, 예측후보에 존재하는 개수:  882개, 비율: 87.8486%\n",
      "   필수조항7 --> 정답으로 존재하는 개수:  781개, 예측후보에 존재하는 개수:  589개, 비율: 75.4161%\n",
      "   필수조항8 --> 정답으로 존재하는 개수:  986개, 예측후보에 존재하는 개수:  589개, 비율: 59.7363%\n",
      "   필수조항9 --> 정답으로 존재하는 개수:  823개, 예측후보에 존재하는 개수:  710개, 비율: 86.2697%\n",
      "  필수조항10 --> 정답으로 존재하는 개수:  190개, 예측후보에 존재하는 개수:   89개, 비율: 46.8421%\n",
      "필수조항10.1 --> 정답으로 존재하는 개수:  264개, 예측후보에 존재하는 개수:  145개, 비율: 54.9242%\n",
      "  필수조항11 --> 정답으로 존재하는 개수: 2538개, 예측후보에 존재하는 개수: 2427개, 비율: 95.6265%\n",
      "  필수조항12 --> 정답으로 존재하는 개수: 1421개, 예측후보에 존재하는 개수: 1331개, 비율: 93.6664%\n",
      "  필수조항13 --> 정답으로 존재하는 개수:  258개, 예측후보에 존재하는 개수:  214개, 비율: 82.9457%\n",
      "   옵션조항1 --> 정답으로 존재하는 개수: 1057개, 예측후보에 존재하는 개수:  957개, 비율: 90.5393%\n",
      "   옵션조항2 --> 정답으로 존재하는 개수:  507개, 예측후보에 존재하는 개수:  484개, 비율: 95.4635%\n",
      "   옵션조항3 --> 정답으로 존재하는 개수: 2016개, 예측후보에 존재하는 개수: 1881개, 비율: 93.3036%\n",
      "   옵션조항4 --> 정답으로 존재하는 개수:    5개, 예측후보에 존재하는 개수:    5개, 비율: 100.0000%\n",
      "   옵션조항5 --> 정답으로 존재하는 개수:  171개, 예측후보에 존재하는 개수:  165개, 비율: 96.4912%\n",
      "   옵션조항6 --> 정답으로 존재하는 개수:   97개, 예측후보에 존재하는 개수:   88개, 비율: 90.7216%\n",
      "   옵션조항7 --> 정답으로 존재하는 개수:  159개, 예측후보에 존재하는 개수:  123개, 비율: 77.3585%\n",
      "   옵션조항8 --> 정답으로 존재하는 개수:  493개, 예측후보에 존재하는 개수:  491개, 비율: 99.5943%\n",
      "   옵션조항9 --> 정답으로 존재하는 개수:    1개, 예측후보에 존재하는 개수:    0개, 비율: 0.0000%\n",
      "  옵션조항10 --> 정답으로 존재하는 개수:   22개, 예측후보에 존재하는 개수:   13개, 비율: 59.0909%\n",
      "  옵션조항12 --> 정답으로 존재하는 개수:    1개, 예측후보에 존재하는 개수:    0개, 비율: 0.0000%\n"
     ]
    }
   ],
   "source": [
    "for trg_label in label_list:\n",
    "    cnt, counter = predicted_form(df, trg_label)\n",
    "    print(f\"{trg_label:>8} --> 정답으로 존재하는 개수: {cnt:4d}개, 예측후보에 존재하는 개수: {counter[trg_label]:4d}개, 비율: {counter[trg_label] / cnt * 100:.4f}%\")"
   ]
  },
  {
   "cell_type": "code",
   "execution_count": null,
   "id": "bigger-binary",
   "metadata": {},
   "outputs": [],
   "source": []
  }
 ],
 "metadata": {
  "kernelspec": {
   "display_name": "Python 3",
   "language": "python",
   "name": "python3"
  },
  "language_info": {
   "codemirror_mode": {
    "name": "ipython",
    "version": 3
   },
   "file_extension": ".py",
   "mimetype": "text/x-python",
   "name": "python",
   "nbconvert_exporter": "python",
   "pygments_lexer": "ipython3",
   "version": "3.8.3"
  }
 },
 "nbformat": 4,
 "nbformat_minor": 5
}
