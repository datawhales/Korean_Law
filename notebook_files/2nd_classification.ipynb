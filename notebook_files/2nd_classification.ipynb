{
 "cells": [
  {
   "cell_type": "code",
   "execution_count": 1,
   "id": "committed-prerequisite",
   "metadata": {},
   "outputs": [
    {
     "data": {
      "text/html": [
       "<div>\n",
       "<style scoped>\n",
       "    .dataframe tbody tr th:only-of-type {\n",
       "        vertical-align: middle;\n",
       "    }\n",
       "\n",
       "    .dataframe tbody tr th {\n",
       "        vertical-align: top;\n",
       "    }\n",
       "\n",
       "    .dataframe thead th {\n",
       "        text-align: right;\n",
       "    }\n",
       "</style>\n",
       "<table border=\"1\" class=\"dataframe\">\n",
       "  <thead>\n",
       "    <tr style=\"text-align: right;\">\n",
       "      <th></th>\n",
       "      <th>Unnamed: 0</th>\n",
       "      <th>조_항목</th>\n",
       "      <th>항목</th>\n",
       "      <th>원본</th>\n",
       "      <th>조항구분</th>\n",
       "      <th>조항구분_예측</th>\n",
       "      <th>파일명</th>\n",
       "    </tr>\n",
       "  </thead>\n",
       "  <tbody>\n",
       "    <tr>\n",
       "      <th>0</th>\n",
       "      <td>0</td>\n",
       "      <td>목적 및 대상</td>\n",
       "      <td>1조 1항</td>\n",
       "      <td>본 계약은 음식물류 폐기물의 자원화를 효율적으로 추진하기 위하여 필요한 사항을 약정...</td>\n",
       "      <td>['nan']</td>\n",
       "      <td>['nan']</td>\n",
       "      <td>체크1. (과업지시서)2018년 음식물폐기물 민간위탁처리(용역)_계약서.xlsx</td>\n",
       "    </tr>\n",
       "    <tr>\n",
       "      <th>1</th>\n",
       "      <td>1</td>\n",
       "      <td>목적 및 대상</td>\n",
       "      <td>1조 2항</td>\n",
       "      <td>위탁처리대상은 [지역명1]군에서 분리 수거한 음식물류폐기물로 한다.</td>\n",
       "      <td>['nan']</td>\n",
       "      <td>['nan']</td>\n",
       "      <td>체크1. (과업지시서)2018년 음식물폐기물 민간위탁처리(용역)_계약서.xlsx</td>\n",
       "    </tr>\n",
       "    <tr>\n",
       "      <th>2</th>\n",
       "      <td>2</td>\n",
       "      <td>위탁업무의 내용 및 처리방법</td>\n",
       "      <td>2조 1항</td>\n",
       "      <td>음식물폐기물의 수집․운반은 “갑”이하고 수집,운반된 음식물류 폐기물의 처리는 “을”...</td>\n",
       "      <td>['nan']</td>\n",
       "      <td>['nan']</td>\n",
       "      <td>체크1. (과업지시서)2018년 음식물폐기물 민간위탁처리(용역)_계약서.xlsx</td>\n",
       "    </tr>\n",
       "    <tr>\n",
       "      <th>3</th>\n",
       "      <td>3</td>\n",
       "      <td>위탁업무의 내용 및 처리방법</td>\n",
       "      <td>2조 2항</td>\n",
       "      <td>“을”은  “갑”이  수집,운반한 음식물류폐기물을 사업장에서 관련 법령에 적법하게 ...</td>\n",
       "      <td>['nan']</td>\n",
       "      <td>['nan']</td>\n",
       "      <td>체크1. (과업지시서)2018년 음식물폐기물 민간위탁처리(용역)_계약서.xlsx</td>\n",
       "    </tr>\n",
       "    <tr>\n",
       "      <th>4</th>\n",
       "      <td>4</td>\n",
       "      <td>계약기간</td>\n",
       "      <td>3조 1항</td>\n",
       "      <td>위수탁기간은 [기간]로 한다.</td>\n",
       "      <td>['필수조항1']</td>\n",
       "      <td>['필수조항1']</td>\n",
       "      <td>체크1. (과업지시서)2018년 음식물폐기물 민간위탁처리(용역)_계약서.xlsx</td>\n",
       "    </tr>\n",
       "  </tbody>\n",
       "</table>\n",
       "</div>"
      ],
      "text/plain": [
       "   Unnamed: 0             조_항목     항목  \\\n",
       "0           0          목적 및 대상  1조 1항   \n",
       "1           1          목적 및 대상  1조 2항   \n",
       "2           2  위탁업무의 내용 및 처리방법  2조 1항   \n",
       "3           3  위탁업무의 내용 및 처리방법  2조 2항   \n",
       "4           4             계약기간  3조 1항   \n",
       "\n",
       "                                                  원본       조항구분    조항구분_예측  \\\n",
       "0  본 계약은 음식물류 폐기물의 자원화를 효율적으로 추진하기 위하여 필요한 사항을 약정...    ['nan']    ['nan']   \n",
       "1              위탁처리대상은 [지역명1]군에서 분리 수거한 음식물류폐기물로 한다.    ['nan']    ['nan']   \n",
       "2  음식물폐기물의 수집․운반은 “갑”이하고 수집,운반된 음식물류 폐기물의 처리는 “을”...    ['nan']    ['nan']   \n",
       "3  “을”은  “갑”이  수집,운반한 음식물류폐기물을 사업장에서 관련 법령에 적법하게 ...    ['nan']    ['nan']   \n",
       "4                                   위수탁기간은 [기간]로 한다.  ['필수조항1']  ['필수조항1']   \n",
       "\n",
       "                                            파일명  \n",
       "0  체크1. (과업지시서)2018년 음식물폐기물 민간위탁처리(용역)_계약서.xlsx  \n",
       "1  체크1. (과업지시서)2018년 음식물폐기물 민간위탁처리(용역)_계약서.xlsx  \n",
       "2  체크1. (과업지시서)2018년 음식물폐기물 민간위탁처리(용역)_계약서.xlsx  \n",
       "3  체크1. (과업지시서)2018년 음식물폐기물 민간위탁처리(용역)_계약서.xlsx  \n",
       "4  체크1. (과업지시서)2018년 음식물폐기물 민간위탁처리(용역)_계약서.xlsx  "
      ]
     },
     "execution_count": 1,
     "metadata": {},
     "output_type": "execute_result"
    }
   ],
   "source": [
    "import pandas as pd\n",
    "\n",
    "df = pd.read_csv('new_classification_0809.csv')\n",
    "df.head()"
   ]
  },
  {
   "cell_type": "code",
   "execution_count": 16,
   "id": "incorporate-chassis",
   "metadata": {},
   "outputs": [
    {
     "name": "stdout",
     "output_type": "stream",
     "text": [
      "Accuracy = 44.1317\n"
     ]
    }
   ],
   "source": [
    "cnt = 0\n",
    "for i in range(len(df)):\n",
    "    if df.iloc[i]['조항구분'] == df.iloc[i]['조항구분_예측']:\n",
    "        cnt += 1\n",
    "print(f\"Accuracy = {cnt / len(df) * 100:.4f}\")"
   ]
  },
  {
   "cell_type": "markdown",
   "id": "mighty-finland",
   "metadata": {},
   "source": [
    "## 정답이 후보군에 포함되어 있는 비율 파악"
   ]
  },
  {
   "cell_type": "code",
   "execution_count": 2,
   "id": "higher-utilization",
   "metadata": {},
   "outputs": [],
   "source": [
    "# 1. 각 정답 조항구분 별로 나타나는 조항구분_예측의 구성 형태 파악\n",
    "# 2. 정답이 후보군에 포함되어 있는지 확인\n",
    "import re\n",
    "\n",
    "def evaluate_total(df):\n",
    "    total = len(df)\n",
    "    print(f\"전체 데이터 수: {total}개\")\n",
    "    cnt = 0\n",
    "    for i in range(total):\n",
    "        label, pred = df.iloc[i]['조항구분'], df.iloc[i]['조항구분_예측']\n",
    "        # 'nan' 또는 '필수조항1' 또는 '필수조항1', '필수조항2'\n",
    "        labels = [re.sub(\"'\", \"\", l).strip() for l in label[1:-1].split(',')]\n",
    "        preds = [re.sub(\"'\", \"\", p).strip() for p in pred[1:-1].split(',')]\n",
    "        if set(labels).issubset(set(preds)):\n",
    "            cnt += 1\n",
    "    print(f\"후보군이 정답을 포함하고 있는 항 수: {cnt}개\")\n",
    "    return cnt / total * 100\n"
   ]
  },
  {
   "cell_type": "code",
   "execution_count": 3,
   "id": "patient-today",
   "metadata": {},
   "outputs": [
    {
     "name": "stdout",
     "output_type": "stream",
     "text": [
      "전체 데이터 수: 37123개\n",
      "후보군이 정답을 포함하고 있는 항 수: 23656개\n"
     ]
    },
    {
     "data": {
      "text/plain": [
       "63.72329822482019"
      ]
     },
     "execution_count": 3,
     "metadata": {},
     "output_type": "execute_result"
    }
   ],
   "source": [
    "evaluate_total(df)"
   ]
  },
  {
   "cell_type": "code",
   "execution_count": 4,
   "id": "prerequisite-magic",
   "metadata": {},
   "outputs": [],
   "source": [
    "# 1. 각 정답 조항구분 별로 나타나는 조항구분_예측의 구성 형태 파악\n",
    "# 2. 정답이 후보군에 포함되어 있는지 확인\n",
    "import re\n",
    "\n",
    "def evaluate(df):\n",
    "    total = 0\n",
    "    cnt = 0\n",
    "    for i in range(len(df)):\n",
    "        label, pred = df.iloc[i]['조항구분'], df.iloc[i]['조항구분_예측']\n",
    "        # 'nan' 또는 '필수조항1' 또는 '필수조항1', '필수조항2'\n",
    "        labels = [re.sub(\"'\", \"\", l).strip() for l in label[1:-1].split(',')]\n",
    "        if ['nan'] == labels:\n",
    "            continue\n",
    "        if 'nan' in labels:\n",
    "            labels.remove('nan')\n",
    "        preds = [re.sub(\"'\", \"\", p).strip() for p in pred[1:-1].split(',')]\n",
    "        if set(labels).issubset(set(preds)):\n",
    "            cnt += 1\n",
    "        total += 1\n",
    "    print(f\"전체 데이터 수: {total}개\")\n",
    "    print(f\"후보군이 정답을 포함하고 있는 항 수: {cnt}개\")\n",
    "    return cnt / total * 100\n"
   ]
  },
  {
   "cell_type": "code",
   "execution_count": 5,
   "id": "applied-issue",
   "metadata": {},
   "outputs": [
    {
     "name": "stdout",
     "output_type": "stream",
     "text": [
      "전체 데이터 수: 16585개\n",
      "후보군이 정답을 포함하고 있는 항 수: 11586개\n"
     ]
    },
    {
     "data": {
      "text/plain": [
       "69.8583056979198"
      ]
     },
     "execution_count": 5,
     "metadata": {},
     "output_type": "execute_result"
    }
   ],
   "source": [
    "evaluate(df)"
   ]
  },
  {
   "cell_type": "markdown",
   "id": "progressive-mason",
   "metadata": {},
   "source": [
    "## 정답 조항의 개수에 따른 조항구분 예측 후보의 개수 분포"
   ]
  },
  {
   "cell_type": "code",
   "execution_count": 6,
   "id": "native-petersburg",
   "metadata": {},
   "outputs": [],
   "source": [
    "from collections import defaultdict\n",
    "\n",
    "def number_of_cands(df):\n",
    "    cnt_dict = defaultdict(dict)\n",
    "    total = len(df)\n",
    "    print(f\"전체 데이터 수: {total}개\")\n",
    "    for i in range(total):\n",
    "        label, pred = df.iloc[i]['조항구분'], df.iloc[i]['조항구분_예측']\n",
    "        labels = [re.sub(\"'\", \"\", l).strip() for l in label[1:-1].split(',')]\n",
    "        preds = [re.sub(\"'\", \"\", p).strip() for p in pred[1:-1].split(',')]\n",
    "        # 'nan'인 경우 0개로 취급\n",
    "        if ['nan'] == labels:\n",
    "            if ['nan'] == preds:\n",
    "                if 0 not in cnt_dict[0]:\n",
    "                    cnt_dict[0][0] = 1\n",
    "                else:\n",
    "                    cnt_dict[0][0] += 1\n",
    "            else:\n",
    "                if len(preds) not in cnt_dict[0]:\n",
    "                    cnt_dict[0][len(preds)] = 1\n",
    "                else:\n",
    "                    cnt_dict[0][len(preds)] += 1\n",
    "        elif 'nan' in labels:\n",
    "            labels.remove('nan')\n",
    "            if ['nan'] == preds:\n",
    "                if 0 not in cnt_dict[len(labels)]:\n",
    "                    cnt_dict[len(labels)][0] = 1\n",
    "                else:\n",
    "                    cnt_dict[len(labels)][0] += 1\n",
    "            else:\n",
    "                if len(preds) not in cnt_dict[len(labels)]:\n",
    "                    cnt_dict[len(labels)][len(preds)] = 1\n",
    "                else:\n",
    "                    cnt_dict[len(labels)][len(preds)] += 1\n",
    "        else:\n",
    "            if len(preds) not in cnt_dict[len(labels)]:\n",
    "                cnt_dict[len(labels)][len(preds)] = 1\n",
    "            else:\n",
    "                cnt_dict[len(labels)][len(preds)] += 1\n",
    "                \n",
    "    # sorting\n",
    "    sorted_cnt_dict = {}\n",
    "    sorted_by_num_cnt_dict = {}\n",
    "    \n",
    "    for k, v_dict in sorted(cnt_dict.items()):\n",
    "        sorted_cnt_dict[k] = {a:b for a, b in sorted(v_dict.items(), key=lambda x: x[1], reverse=True)}\n",
    "        sorted_by_num_cnt_dict[k] = {a:b for a, b in sorted(v_dict.items())}\n",
    "\n",
    "    return sorted_cnt_dict, sorted_by_num_cnt_dict"
   ]
  },
  {
   "cell_type": "code",
   "execution_count": 7,
   "id": "important-prototype",
   "metadata": {},
   "outputs": [
    {
     "name": "stdout",
     "output_type": "stream",
     "text": [
      "전체 데이터 수: 37123개\n"
     ]
    }
   ],
   "source": [
    "sorted_cnt_dict, sorted_by_num_cnt_dict = number_of_cands(df)"
   ]
  },
  {
   "cell_type": "code",
   "execution_count": 8,
   "id": "adolescent-mapping",
   "metadata": {},
   "outputs": [
    {
     "data": {
      "text/plain": [
       "{0: {0: 12070,\n",
       "  1: 5115,\n",
       "  2: 2074,\n",
       "  3: 777,\n",
       "  4: 252,\n",
       "  5: 151,\n",
       "  6: 62,\n",
       "  7: 34,\n",
       "  9: 2,\n",
       "  8: 1},\n",
       " 1: {1: 7574,\n",
       "  2: 4869,\n",
       "  3: 1914,\n",
       "  4: 776,\n",
       "  5: 286,\n",
       "  6: 103,\n",
       "  7: 71,\n",
       "  9: 14,\n",
       "  8: 12,\n",
       "  10: 2},\n",
       " 2: {2: 197, 3: 167, 4: 126, 5: 72, 1: 71, 6: 28, 8: 26, 7: 9, 12: 1, 11: 1},\n",
       " 3: {5: 50, 4: 49, 3: 48, 2: 31, 6: 14, 1: 13, 8: 8, 7: 7, 9: 2},\n",
       " 4: {5: 10, 4: 10, 3: 6, 2: 3, 6: 3, 7: 1, 10: 1, 1: 1, 8: 1, 9: 1},\n",
       " 5: {8: 2, 7: 2, 4: 1},\n",
       " 6: {4: 1, 3: 1}}"
      ]
     },
     "execution_count": 8,
     "metadata": {},
     "output_type": "execute_result"
    }
   ],
   "source": [
    "sorted_cnt_dict"
   ]
  },
  {
   "cell_type": "code",
   "execution_count": 9,
   "id": "horizontal-northwest",
   "metadata": {},
   "outputs": [
    {
     "data": {
      "text/plain": [
       "{0: {0: 12070,\n",
       "  1: 5115,\n",
       "  2: 2074,\n",
       "  3: 777,\n",
       "  4: 252,\n",
       "  5: 151,\n",
       "  6: 62,\n",
       "  7: 34,\n",
       "  8: 1,\n",
       "  9: 2},\n",
       " 1: {1: 7574,\n",
       "  2: 4869,\n",
       "  3: 1914,\n",
       "  4: 776,\n",
       "  5: 286,\n",
       "  6: 103,\n",
       "  7: 71,\n",
       "  8: 12,\n",
       "  9: 14,\n",
       "  10: 2},\n",
       " 2: {1: 71, 2: 197, 3: 167, 4: 126, 5: 72, 6: 28, 7: 9, 8: 26, 11: 1, 12: 1},\n",
       " 3: {1: 13, 2: 31, 3: 48, 4: 49, 5: 50, 6: 14, 7: 7, 8: 8, 9: 2},\n",
       " 4: {1: 1, 2: 3, 3: 6, 4: 10, 5: 10, 6: 3, 7: 1, 8: 1, 9: 1, 10: 1},\n",
       " 5: {4: 1, 7: 2, 8: 2},\n",
       " 6: {3: 1, 4: 1}}"
      ]
     },
     "execution_count": 9,
     "metadata": {},
     "output_type": "execute_result"
    }
   ],
   "source": [
    "sorted_by_num_cnt_dict"
   ]
  },
  {
   "cell_type": "markdown",
   "id": "filled-channels",
   "metadata": {},
   "source": [
    "## 정답 조항의 종류에 따른 예측 조항의 분포\n"
   ]
  },
  {
   "cell_type": "code",
   "execution_count": 10,
   "id": "arbitrary-belarus",
   "metadata": {},
   "outputs": [
    {
     "name": "stdout",
     "output_type": "stream",
     "text": [
      "전체 데이터 수: 37123\n"
     ]
    }
   ],
   "source": [
    "from collections import Counter\n",
    "\n",
    "print(f\"전체 데이터 수: {len(df)}\")\n",
    "\n",
    "def predicted_form(df, trg_label):\n",
    "    counter = Counter()\n",
    "    cnt = 0\n",
    "    total = len(df)\n",
    "    for i in range(total):\n",
    "        label, pred = df.iloc[i]['조항구분'], df.iloc[i]['조항구분_예측']\n",
    "        labels = [re.sub(\"'\", \"\", l).strip() for l in label[1:-1].split(',')]\n",
    "        preds = [re.sub(\"'\", \"\", p).strip() for p in pred[1:-1].split(',')]\n",
    "        if trg_label in labels:\n",
    "            counter.update(preds)\n",
    "            cnt += 1\n",
    "            \n",
    "    return cnt, counter"
   ]
  },
  {
   "cell_type": "code",
   "execution_count": 11,
   "id": "false-leave",
   "metadata": {},
   "outputs": [
    {
     "name": "stdout",
     "output_type": "stream",
     "text": [
      "필수조항1이 나오는 횟수는 880\n",
      "Counter({'필수조항1': 830, '옵션조항3': 167, '필수조항3': 151, '필수조항2': 128, '필수조항9': 61, '필수조항10': 60, '필수조항8': 38, 'nan': 29, '옵션조항2': 25, '필수조항6': 20, '필수조항12': 18, '필수조항7': 13, '필수조항5': 10, '필수조항4': 10, '옵션조항5': 8, '필수조항13': 8, '옵션조항8': 6, '필수조항11': 4, '옵션조항7': 3, '옵션조항1': 3})\n"
     ]
    }
   ],
   "source": [
    "cnt, counter = predicted_form(df, '필수조항1')\n",
    "print(f\"필수조항1이 나오는 횟수는 {cnt}\")\n",
    "print(counter)"
   ]
  },
  {
   "cell_type": "code",
   "execution_count": 12,
   "id": "together-confidence",
   "metadata": {},
   "outputs": [
    {
     "name": "stdout",
     "output_type": "stream",
     "text": [
      "필수조항2이 나오는 횟수는 162\n",
      "Counter({'필수조항1': 132, '필수조항3': 119, '필수조항2': 118, 'nan': 20, '필수조항9': 20, '필수조항8': 18, '옵션조항3': 10, '옵션조항2': 6, '필수조항4': 4, '필수조항10': 3, '필수조항7': 3, '옵션조항1': 2, '필수조항13': 2, '필수조항5': 2, '옵션조항5': 1, '필수조항12': 1})\n"
     ]
    }
   ],
   "source": [
    "cnt, counter = predicted_form(df, '필수조항2')\n",
    "print(f\"필수조항2이 나오는 횟수는 {cnt}\")\n",
    "print(counter)"
   ]
  },
  {
   "cell_type": "markdown",
   "id": "waiting-northeast",
   "metadata": {},
   "source": [
    "### 각 조항별로 예측이 되는 비율 구하기 - 키워드 추가 필요한 조항(?)"
   ]
  },
  {
   "cell_type": "code",
   "execution_count": 13,
   "id": "sought-warehouse",
   "metadata": {},
   "outputs": [],
   "source": [
    "label_list = ['필수조항1', '필수조항2', '필수조항3', '필수조항4', '필수조항5', '필수조항6', '필수조항7',\n",
    "       '필수조항8', '필수조항9', '필수조항10', '필수조항10.1', \n",
    "    '필수조항11', '필수조항12', '필수조항13', '옵션조항1', '옵션조항2', '옵션조항3', '옵션조항4', '옵션조항5', \n",
    "            '옵션조항6', '옵션조항7', '옵션조항8', '옵션조항9', '옵션조항10', '옵션조항12']"
   ]
  },
  {
   "cell_type": "code",
   "execution_count": 14,
   "id": "brilliant-brave",
   "metadata": {},
   "outputs": [
    {
     "name": "stdout",
     "output_type": "stream",
     "text": [
      "   필수조항1 --> 정답으로 존재하는 개수:  880개, 예측후보에 존재하는 개수:  830개, 비율: 94.3182%\n",
      "   필수조항2 --> 정답으로 존재하는 개수:  162개, 예측후보에 존재하는 개수:  118개, 비율: 72.8395%\n",
      "   필수조항3 --> 정답으로 존재하는 개수:  795개, 예측후보에 존재하는 개수:  694개, 비율: 87.2956%\n",
      "   필수조항4 --> 정답으로 존재하는 개수:  895개, 예측후보에 존재하는 개수:  731개, 비율: 81.6760%\n",
      "   필수조항5 --> 정답으로 존재하는 개수:  869개, 예측후보에 존재하는 개수:  697개, 비율: 80.2071%\n",
      "   필수조항6 --> 정답으로 존재하는 개수: 1088개, 예측후보에 존재하는 개수:  889개, 비율: 81.7096%\n",
      "   필수조항7 --> 정답으로 존재하는 개수:  863개, 예측후보에 존재하는 개수:  623개, 비율: 72.1900%\n",
      "   필수조항8 --> 정답으로 존재하는 개수: 1033개, 예측후보에 존재하는 개수:  781개, 비율: 75.6050%\n",
      "   필수조항9 --> 정답으로 존재하는 개수:  924개, 예측후보에 존재하는 개수:  822개, 비율: 88.9610%\n",
      "  필수조항10 --> 정답으로 존재하는 개수:  226개, 예측후보에 존재하는 개수:   93개, 비율: 41.1504%\n",
      "필수조항10.1 --> 정답으로 존재하는 개수:  301개, 예측후보에 존재하는 개수:    0개, 비율: 0.0000%\n",
      "  필수조항11 --> 정답으로 존재하는 개수: 2724개, 예측후보에 존재하는 개수: 1384개, 비율: 50.8076%\n",
      "  필수조항12 --> 정답으로 존재하는 개수: 1562개, 예측후보에 존재하는 개수: 1429개, 비율: 91.4853%\n",
      "  필수조항13 --> 정답으로 존재하는 개수:  263개, 예측후보에 존재하는 개수:  209개, 비율: 79.4677%\n",
      "   옵션조항1 --> 정답으로 존재하는 개수: 1116개, 예측후보에 존재하는 개수:  582개, 비율: 52.1505%\n",
      "   옵션조항2 --> 정답으로 존재하는 개수:  538개, 예측후보에 존재하는 개수:  478개, 비율: 88.8476%\n",
      "   옵션조항3 --> 정답으로 존재하는 개수: 2185개, 예측후보에 존재하는 개수: 1536개, 비율: 70.2975%\n",
      "   옵션조항4 --> 정답으로 존재하는 개수:    5개, 예측후보에 존재하는 개수:    0개, 비율: 0.0000%\n",
      "   옵션조항5 --> 정답으로 존재하는 개수:  185개, 예측후보에 존재하는 개수:  176개, 비율: 95.1351%\n",
      "   옵션조항6 --> 정답으로 존재하는 개수:   97개, 예측후보에 존재하는 개수:   89개, 비율: 91.7526%\n",
      "   옵션조항7 --> 정답으로 존재하는 개수:  178개, 예측후보에 존재하는 개수:   86개, 비율: 48.3146%\n",
      "   옵션조항8 --> 정답으로 존재하는 개수:  535개, 예측후보에 존재하는 개수:  464개, 비율: 86.7290%\n",
      "   옵션조항9 --> 정답으로 존재하는 개수:    1개, 예측후보에 존재하는 개수:    0개, 비율: 0.0000%\n",
      "  옵션조항10 --> 정답으로 존재하는 개수:   23개, 예측후보에 존재하는 개수:    0개, 비율: 0.0000%\n",
      "  옵션조항12 --> 정답으로 존재하는 개수:    1개, 예측후보에 존재하는 개수:    0개, 비율: 0.0000%\n"
     ]
    }
   ],
   "source": [
    "for trg_label in label_list:\n",
    "    cnt, counter = predicted_form(df, trg_label)\n",
    "    print(f\"{trg_label:>8} --> 정답으로 존재하는 개수: {cnt:4d}개, 예측후보에 존재하는 개수: {counter[trg_label]:4d}개, 비율: {counter[trg_label] / cnt * 100:.4f}%\")"
   ]
  },
  {
   "cell_type": "code",
   "execution_count": null,
   "id": "adequate-reunion",
   "metadata": {},
   "outputs": [],
   "source": []
  }
 ],
 "metadata": {
  "kernelspec": {
   "display_name": "Python 3",
   "language": "python",
   "name": "python3"
  },
  "language_info": {
   "codemirror_mode": {
    "name": "ipython",
    "version": 3
   },
   "file_extension": ".py",
   "mimetype": "text/x-python",
   "name": "python",
   "nbconvert_exporter": "python",
   "pygments_lexer": "ipython3",
   "version": "3.8.3"
  }
 },
 "nbformat": 4,
 "nbformat_minor": 5
}
